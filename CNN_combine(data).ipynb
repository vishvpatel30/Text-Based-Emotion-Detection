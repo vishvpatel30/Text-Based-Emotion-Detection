{
  "nbformat": 4,
  "nbformat_minor": 0,
  "metadata": {
    "colab": {
      "name": "CNN-combine(data).ipynb",
      "provenance": []
    },
    "kernelspec": {
      "name": "python3",
      "display_name": "Python 3"
    }
  },
  "cells": [
    {
      "cell_type": "markdown",
      "metadata": {
        "id": "yXgpGErMsMJC"
      },
      "source": [
        "# Import Data"
      ]
    },
    {
      "cell_type": "code",
      "metadata": {
        "id": "BSC30tbMTX_7"
      },
      "source": [
        "import pandas as pd\n",
        "import numpy as np\n",
        "\n",
        "# text preprocessing\n",
        "from nltk.tokenize import word_tokenize\n",
        "import re\n",
        "\n",
        "from sklearn.model_selection import train_test_split\n",
        "\n",
        "# plots and metrics\n",
        "import matplotlib.pyplot as plt\n",
        "from sklearn.metrics import accuracy_score, f1_score, confusion_matrix\n",
        "\n",
        "# preparing input to our model\n",
        "from keras.preprocessing.text import Tokenizer\n",
        "from keras.preprocessing.sequence import pad_sequences\n",
        "from keras.utils import to_categorical\n",
        "\n",
        "# keras layers\n",
        "from keras.models import Sequential\n",
        "from keras.layers import Embedding, Conv1D, GlobalMaxPooling1D, Dense"
      ],
      "execution_count": null,
      "outputs": []
    },
    {
      "cell_type": "code",
      "metadata": {
        "id": "sAZtd6MXT9bd"
      },
      "source": [
        "# Number of labels: joy, anger, fear, sadness, neutral\n",
        "num_classes = 4\n",
        "\n",
        "# Number of dimensions for word embedding\n",
        "embed_num_dims = 300\n",
        "\n",
        "# Max input length (max number of words) \n",
        "max_seq_len = 500\n",
        "\n",
        "class_names = ['joy', 'fear', 'anger', 'sadness']"
      ],
      "execution_count": null,
      "outputs": []
    },
    {
      "cell_type": "markdown",
      "metadata": {
        "id": "_8FHyOMDsGl0"
      },
      "source": [
        "# Input the Data"
      ]
    },
    {
      "cell_type": "code",
      "metadata": {
        "id": "7dbUmCNoUEBf",
        "colab": {
          "base_uri": "https://localhost:8080/",
          "height": 52
        },
        "outputId": "441e213b-395d-4ce9-ec3a-2df81a0ad1a7"
      },
      "source": [
        "data= pd.read_csv('/content/combine.csv',  header =None,names = ['Text','Emotion'], encoding='utf-8')\n",
        "\n",
        "X=data['Text']\n",
        "y=data['Emotion']\n",
        "\n",
        "X_train, X_test, y_train, y_test = train_test_split(X, y, test_size=0.33, random_state=42)\n",
        "\n",
        "\n",
        "\"\"\"\n",
        "X_train = data_train.Text\n",
        "X_test = data_test.Text\n",
        "\n",
        "y_train = data_train.Emotion\n",
        "y_test = data_test.Emotion\n",
        "\n",
        "data = data_train.append(data_test, ignore_index=True)\"\"\""
      ],
      "execution_count": null,
      "outputs": [
        {
          "output_type": "execute_result",
          "data": {
            "application/vnd.google.colaboratory.intrinsic+json": {
              "type": "string"
            },
            "text/plain": [
              "'\\nX_train = data_train.Text\\nX_test = data_test.Text\\n\\ny_train = data_train.Emotion\\ny_test = data_test.Emotion\\n\\ndata = data_train.append(data_test, ignore_index=True)'"
            ]
          },
          "metadata": {
            "tags": []
          },
          "execution_count": 62
        }
      ]
    },
    {
      "cell_type": "code",
      "metadata": {
        "colab": {
          "base_uri": "https://localhost:8080/"
        },
        "id": "1QawLPRFKVBv",
        "outputId": "daabee08-6c48-433c-aa63-90e39f46e4ff"
      },
      "source": [
        "X_train, X_test, y_train, y_test"
      ],
      "execution_count": null,
      "outputs": [
        {
          "output_type": "execute_result",
          "data": {
            "text/plain": [
              "(4575    @GrxjicTank WHY though! Why did u want to offe...\n",
              " 7076    Doesn't it just suck when you're so real to so...\n",
              " 2144    When I caused much pain and sorrow to my boyfr...\n",
              " 9930    It is so exhilarating taking on the challenge ...\n",
              " 9780      one thing I can say is that you kept me smiling\n",
              "                               ...                        \n",
              " 5734    When my life became such a concern to irreleva...\n",
              " 5191    and naoto nod she also like tha bands. but she...\n",
              " 5390    #Aleppo city is burning. The head of #terroris...\n",
              " 860     When my uncle died whom I had loved very much....\n",
              " 7270    Just wish I was appreciated for all I do! When...\n",
              " Name: Text, Length: 7461, dtype: object,\n",
              " 8537    LGBTQ media should inform, inspire, entertain ...\n",
              " 483                            Death in the close family.\n",
              " 8411                            My anger is boiling over.\n",
              " 7497         Dylon felt dejected. He has a dejected aunt!\n",
              " 5629    jesus ok an alarming percentage of my teachers...\n",
              "                               ...                        \n",
              " 7017    I love when my dog is playful, but he really j...\n",
              " 8988    #ArchangelSummit @sethgodin  Anyone can be bra...\n",
              " 9675    @samsteinhp stop the presses, @realDonaldTrump...\n",
              " 3482    I felt happy at the settlement of our marriage...\n",
              " 1226    When I dreamed that I was being attacked by a ...\n",
              " Name: Text, Length: 3675, dtype: object,\n",
              " 4575      anger\n",
              " 7076        joy\n",
              " 2144    sadness\n",
              " 9930        joy\n",
              " 9780        joy\n",
              "          ...   \n",
              " 5734       fear\n",
              " 5191      anger\n",
              " 5390       fear\n",
              " 860     sadness\n",
              " 7270    sadness\n",
              " Name: Emotion, Length: 7461, dtype: object,\n",
              " 8537      anger\n",
              " 483     sadness\n",
              " 8411      anger\n",
              " 7497    sadness\n",
              " 5629       fear\n",
              "          ...   \n",
              " 7017        joy\n",
              " 8988       fear\n",
              " 9675       fear\n",
              " 3482        joy\n",
              " 1226       fear\n",
              " Name: Emotion, Length: 3675, dtype: object)"
            ]
          },
          "metadata": {
            "tags": []
          },
          "execution_count": 63
        }
      ]
    },
    {
      "cell_type": "code",
      "metadata": {
        "id": "iMXqeKkfe3Zt"
      },
      "source": [
        "# temp value\n",
        "\n",
        "X_train1=X_train\n",
        "X_test1=X_test\n",
        "\n",
        "y_train1=y_train\n",
        "y_test1=y_test"
      ],
      "execution_count": null,
      "outputs": []
    },
    {
      "cell_type": "code",
      "metadata": {
        "colab": {
          "base_uri": "https://localhost:8080/",
          "height": 35
        },
        "id": "yjWbAeUZoWGc",
        "outputId": "bac04e8e-dd04-4b7e-a266-45e76289e3a2"
      },
      "source": [
        "X_test1[483]"
      ],
      "execution_count": null,
      "outputs": [
        {
          "output_type": "execute_result",
          "data": {
            "application/vnd.google.colaboratory.intrinsic+json": {
              "type": "string"
            },
            "text/plain": [
              "'Death in the close family.'"
            ]
          },
          "metadata": {
            "tags": []
          },
          "execution_count": 104
        }
      ]
    },
    {
      "cell_type": "code",
      "metadata": {
        "colab": {
          "base_uri": "https://localhost:8080/",
          "height": 309
        },
        "id": "DC0CiqrSUJcx",
        "outputId": "7e1da03e-fccf-483e-a18d-fcde5782e256"
      },
      "source": [
        "print(data.Emotion.value_counts())\n",
        "data.head(6)"
      ],
      "execution_count": null,
      "outputs": [
        {
          "output_type": "stream",
          "text": [
            "fear       3237\n",
            "anger      2713\n",
            "joy        2631\n",
            "sadness    2555\n",
            "Name: Emotion, dtype: int64\n"
          ],
          "name": "stdout"
        },
        {
          "output_type": "execute_result",
          "data": {
            "text/html": [
              "<div>\n",
              "<style scoped>\n",
              "    .dataframe tbody tr th:only-of-type {\n",
              "        vertical-align: middle;\n",
              "    }\n",
              "\n",
              "    .dataframe tbody tr th {\n",
              "        vertical-align: top;\n",
              "    }\n",
              "\n",
              "    .dataframe thead th {\n",
              "        text-align: right;\n",
              "    }\n",
              "</style>\n",
              "<table border=\"1\" class=\"dataframe\">\n",
              "  <thead>\n",
              "    <tr style=\"text-align: right;\">\n",
              "      <th></th>\n",
              "      <th>Text</th>\n",
              "      <th>Emotion</th>\n",
              "    </tr>\n",
              "  </thead>\n",
              "  <tbody>\n",
              "    <tr>\n",
              "      <th>0</th>\n",
              "      <td>During the period of falling in love, each tim...</td>\n",
              "      <td>joy</td>\n",
              "    </tr>\n",
              "    <tr>\n",
              "      <th>1</th>\n",
              "      <td>When I was involved in a traffic accident.</td>\n",
              "      <td>fear</td>\n",
              "    </tr>\n",
              "    <tr>\n",
              "      <th>2</th>\n",
              "      <td>When I was driving home after  several days of...</td>\n",
              "      <td>anger</td>\n",
              "    </tr>\n",
              "    <tr>\n",
              "      <th>3</th>\n",
              "      <td>When I lost the person who meant the most to me.</td>\n",
              "      <td>sadness</td>\n",
              "    </tr>\n",
              "    <tr>\n",
              "      <th>4</th>\n",
              "      <td>When I got a letter offering me the Summer job...</td>\n",
              "      <td>joy</td>\n",
              "    </tr>\n",
              "    <tr>\n",
              "      <th>5</th>\n",
              "      <td>When I was going home alone one night in Paris...</td>\n",
              "      <td>fear</td>\n",
              "    </tr>\n",
              "  </tbody>\n",
              "</table>\n",
              "</div>"
            ],
            "text/plain": [
              "                                                Text  Emotion\n",
              "0  During the period of falling in love, each tim...      joy\n",
              "1         When I was involved in a traffic accident.     fear\n",
              "2  When I was driving home after  several days of...    anger\n",
              "3  When I lost the person who meant the most to me.   sadness\n",
              "4  When I got a letter offering me the Summer job...      joy\n",
              "5  When I was going home alone one night in Paris...     fear"
            ]
          },
          "metadata": {
            "tags": []
          },
          "execution_count": 65
        }
      ]
    },
    {
      "cell_type": "code",
      "metadata": {
        "id": "bZXTl2McUMNu"
      },
      "source": [
        "def clean_text(data):\n",
        "    \n",
        "    # remove hashtags and @usernames\n",
        "    data = re.sub(r\"(#[\\d\\w\\.]+)\", '', data)\n",
        "    data = re.sub(r\"(@[\\d\\w\\.]+)\", '', data)\n",
        "    \n",
        "    # tekenization using nltk\n",
        "    data = word_tokenize(data)\n",
        "    \n",
        "    return data"
      ],
      "execution_count": null,
      "outputs": []
    },
    {
      "cell_type": "code",
      "metadata": {
        "colab": {
          "base_uri": "https://localhost:8080/"
        },
        "id": "V9XYf8hVUVrB",
        "outputId": "d75ba8db-4501-433b-c01c-855b14384c56"
      },
      "source": [
        "import nltk\n",
        "nltk.download('punkt')"
      ],
      "execution_count": null,
      "outputs": [
        {
          "output_type": "stream",
          "text": [
            "[nltk_data] Downloading package punkt to /root/nltk_data...\n",
            "[nltk_data]   Package punkt is already up-to-date!\n"
          ],
          "name": "stdout"
        },
        {
          "output_type": "execute_result",
          "data": {
            "text/plain": [
              "True"
            ]
          },
          "metadata": {
            "tags": []
          },
          "execution_count": 67
        }
      ]
    },
    {
      "cell_type": "code",
      "metadata": {
        "id": "lv-G9rmQUSFl"
      },
      "source": [
        "\n",
        "texts = [' '.join(clean_text(text)) for text in data.Text]\n",
        "\n",
        "texts_train = [' '.join(clean_text(text)) for text in X_train]\n",
        "texts_test = [' '.join(clean_text(text)) for text in X_test]"
      ],
      "execution_count": null,
      "outputs": []
    },
    {
      "cell_type": "code",
      "metadata": {
        "colab": {
          "base_uri": "https://localhost:8080/"
        },
        "id": "-sdLKG75UUSa",
        "outputId": "8001181f-1e52-4c58-d070-4739eead570e"
      },
      "source": [
        "print(texts_train[92])"
      ],
      "execution_count": null,
      "outputs": [
        {
          "output_type": "stream",
          "text": [
            "I was escorting a relative on a bike , we passed by a dark road á with bushas on each side . Half way down this road , suddenly , we á saw a white dog appear from one side . Before we could do á anything , it had vanished and moreover it did not seem to have á any legs .\n"
          ],
          "name": "stdout"
        }
      ]
    },
    {
      "cell_type": "code",
      "metadata": {
        "colab": {
          "base_uri": "https://localhost:8080/"
        },
        "id": "Tij86swEUhGd",
        "outputId": "2459d107-d770-4067-fdc0-0e2630b4432e"
      },
      "source": [
        "tokenizer = Tokenizer()\n",
        "tokenizer.fit_on_texts(texts)\n",
        "\n",
        "sequence_train = tokenizer.texts_to_sequences(texts_train)\n",
        "sequence_test = tokenizer.texts_to_sequences(texts_test)\n",
        "\n",
        "index_of_words = tokenizer.word_index\n",
        "\n",
        "# vacab size is number of unique words + reserved 0 index for padding\n",
        "vocab_size = len(index_of_words) + 1\n",
        "\n",
        "print('Number of unique words: {}'.format(len(index_of_words)))"
      ],
      "execution_count": null,
      "outputs": [
        {
          "output_type": "stream",
          "text": [
            "Number of unique words: 14357\n"
          ],
          "name": "stdout"
        }
      ]
    },
    {
      "cell_type": "code",
      "metadata": {
        "colab": {
          "base_uri": "https://localhost:8080/"
        },
        "id": "FmzThiKYUjdq",
        "outputId": "f48d6a3c-b8f3-4c1c-cd5c-df0f2bbd03cc"
      },
      "source": [
        "X_train_pad = pad_sequences(sequence_train, maxlen = max_seq_len )\n",
        "X_test_pad = pad_sequences(sequence_test, maxlen = max_seq_len )\n",
        "\n",
        "X_train_pad"
      ],
      "execution_count": null,
      "outputs": [
        {
          "output_type": "execute_result",
          "data": {
            "text/plain": [
              "array([[   0,    0,    0, ...,    5,  738, 1381],\n",
              "       [   0,    0,    0, ...,  135,   19,  164],\n",
              "       [   0,    0,    0, ...,    4,   77,  292],\n",
              "       ...,\n",
              "       [   0,    0,    0, ...,  180,   95,   20],\n",
              "       [   0,    0,    0, ...,   69, 1270, 3211],\n",
              "       [   0,    0,    0, ...,  141,    3,  624]], dtype=int32)"
            ]
          },
          "metadata": {
            "tags": []
          },
          "execution_count": 71
        }
      ]
    },
    {
      "cell_type": "code",
      "metadata": {
        "id": "WNJMJjPLUl8_"
      },
      "source": [
        "encoding = {\n",
        "    'joy': 0,\n",
        "    'fear': 1,\n",
        "    'anger': 2,\n",
        "    'sadness': 3,\n",
        "}\n",
        "\n",
        "# Integer labels\n",
        "y_train = [encoding[x] for x in y_train]\n",
        "y_test = [encoding[x] for x in y_test]"
      ],
      "execution_count": null,
      "outputs": []
    },
    {
      "cell_type": "code",
      "metadata": {
        "colab": {
          "base_uri": "https://localhost:8080/"
        },
        "id": "oGfJ6_WyUrns",
        "outputId": "91e72770-9235-473a-9c59-e29a4ae77703"
      },
      "source": [
        "y_train = to_categorical(y_train)\n",
        "y_test = to_categorical(y_test)\n",
        "\n",
        "y_train"
      ],
      "execution_count": null,
      "outputs": [
        {
          "output_type": "execute_result",
          "data": {
            "text/plain": [
              "array([[0., 0., 1., 0.],\n",
              "       [1., 0., 0., 0.],\n",
              "       [0., 0., 0., 1.],\n",
              "       ...,\n",
              "       [0., 1., 0., 0.],\n",
              "       [0., 0., 0., 1.],\n",
              "       [0., 0., 0., 1.]], dtype=float32)"
            ]
          },
          "metadata": {
            "tags": []
          },
          "execution_count": 73
        }
      ]
    },
    {
      "cell_type": "markdown",
      "metadata": {
        "id": "8OVHCzxNr9Lj"
      },
      "source": [
        "# Import pretrained word vectors"
      ]
    },
    {
      "cell_type": "code",
      "metadata": {
        "id": "rarQYLSiVmzo"
      },
      "source": [
        "def create_embedding_matrix(filepath, word_index, embedding_dim):\n",
        "    vocab_size = len(word_index) + 1  # Adding again 1 because of reserved 0 index\n",
        "    embedding_matrix = np.zeros((vocab_size, embedding_dim))\n",
        "    with open(filepath) as f:\n",
        "        for line in f:\n",
        "            word, *vector = line.split()\n",
        "            if word in word_index:\n",
        "                idx = word_index[word] \n",
        "                embedding_matrix[idx] = np.array(\n",
        "                    vector, dtype=np.float32)[:embedding_dim]\n",
        "    return embedding_matrix"
      ],
      "execution_count": null,
      "outputs": []
    },
    {
      "cell_type": "code",
      "metadata": {
        "id": "N5_ZHaJuVqTp"
      },
      "source": [
        "import urllib.request\n",
        "import zipfile\n",
        "import os\n",
        "\n",
        "fname = 'embeddings/wiki-news-300d-1M.vec'\n",
        "\n",
        "if not os.path.isfile(fname):\n",
        "    print('Downloading word vectors...')\n",
        "    urllib.request.urlretrieve('https://dl.fbaipublicfiles.com/fasttext/vectors-english/wiki-news-300d-1M.vec.zip',\n",
        "                              'wiki-news-300d-1M.vec.zip')\n",
        "    print('Unzipping...')\n",
        "    with zipfile.ZipFile('wiki-news-300d-1M.vec.zip', 'r') as zip_ref:\n",
        "        zip_ref.extractall('embeddings')\n",
        "    print('done.')\n",
        "    \n",
        "    os.remove('wiki-news-300d-1M.vec.zip')\n"
      ],
      "execution_count": null,
      "outputs": []
    },
    {
      "cell_type": "code",
      "metadata": {
        "colab": {
          "base_uri": "https://localhost:8080/"
        },
        "id": "NUIlOl3mVtfq",
        "outputId": "031a232c-ab87-4512-eb1a-5dc9e6d80a08"
      },
      "source": [
        "embedd_matrix = create_embedding_matrix(fname, index_of_words, embed_num_dims)\n",
        "embedd_matrix.shape"
      ],
      "execution_count": null,
      "outputs": [
        {
          "output_type": "execute_result",
          "data": {
            "text/plain": [
              "(14358, 300)"
            ]
          },
          "metadata": {
            "tags": []
          },
          "execution_count": 76
        }
      ]
    },
    {
      "cell_type": "code",
      "metadata": {
        "colab": {
          "base_uri": "https://localhost:8080/"
        },
        "id": "g95mR5X9V_c7",
        "outputId": "4942dade-58ea-4720-ae0f-b6815ea58fab"
      },
      "source": [
        "# Inspect unseen words\n",
        "new_words = 0\n",
        "\n",
        "for word in index_of_words:\n",
        "    entry = embedd_matrix[index_of_words[word]]\n",
        "    if all(v == 0 for v in entry):\n",
        "        new_words = new_words + 1\n",
        "\n",
        "print('Words found in wiki vocab: ' + str(len(index_of_words) - new_words))\n",
        "print('New words found: ' + str(new_words))"
      ],
      "execution_count": null,
      "outputs": [
        {
          "output_type": "stream",
          "text": [
            "Words found in wiki vocab: 12409\n",
            "New words found: 1948\n"
          ],
          "name": "stdout"
        }
      ]
    },
    {
      "cell_type": "markdown",
      "metadata": {
        "id": "xz5MXXTEr0bq"
      },
      "source": [
        "# Create CNN Pipeline"
      ]
    },
    {
      "cell_type": "markdown",
      "metadata": {
        "id": "lo4n4grNrvTB"
      },
      "source": [
        "### Embedding Layer"
      ]
    },
    {
      "cell_type": "code",
      "metadata": {
        "id": "ktRq7H-MWE2X"
      },
      "source": [
        "embedd_layer = Embedding(vocab_size,\n",
        "                         embed_num_dims,\n",
        "                         input_length = max_seq_len,\n",
        "                         weights = [embedd_matrix],\n",
        "                         trainable=False)"
      ],
      "execution_count": null,
      "outputs": []
    },
    {
      "cell_type": "markdown",
      "metadata": {
        "id": "lANNC5SfrndL"
      },
      "source": [
        "### Model Pipeline"
      ]
    },
    {
      "cell_type": "code",
      "metadata": {
        "id": "nxMcbT92WJic"
      },
      "source": [
        "\n",
        "# Convolution\n",
        "kernel_size = 3\n",
        "filters = 256\n",
        "\n",
        "model = Sequential()\n",
        "model.add(embedd_layer)\n",
        "model.add(Conv1D(filters, kernel_size, activation='relu'))\n",
        "model.add(GlobalMaxPooling1D())\n",
        "model.add(Dense(256, activation='relu'))\n",
        "model.add(Dense(num_classes, activation='softmax'))"
      ],
      "execution_count": null,
      "outputs": []
    },
    {
      "cell_type": "code",
      "metadata": {
        "colab": {
          "base_uri": "https://localhost:8080/"
        },
        "id": "ADpvAeTyWMdp",
        "outputId": "5f97aba7-559a-4d3b-d315-94a3992687d5"
      },
      "source": [
        "model.compile(loss = 'categorical_crossentropy', optimizer = 'adam', metrics = ['accuracy'])\n",
        "model.summary()"
      ],
      "execution_count": null,
      "outputs": [
        {
          "output_type": "stream",
          "text": [
            "Model: \"sequential_1\"\n",
            "_________________________________________________________________\n",
            "Layer (type)                 Output Shape              Param #   \n",
            "=================================================================\n",
            "embedding_1 (Embedding)      (None, 500, 300)          4307400   \n",
            "_________________________________________________________________\n",
            "conv1d_1 (Conv1D)            (None, 498, 256)          230656    \n",
            "_________________________________________________________________\n",
            "global_max_pooling1d_1 (Glob (None, 256)               0         \n",
            "_________________________________________________________________\n",
            "dense_2 (Dense)              (None, 256)               65792     \n",
            "_________________________________________________________________\n",
            "dense_3 (Dense)              (None, 4)                 1028      \n",
            "=================================================================\n",
            "Total params: 4,604,876\n",
            "Trainable params: 297,476\n",
            "Non-trainable params: 4,307,400\n",
            "_________________________________________________________________\n"
          ],
          "name": "stdout"
        }
      ]
    },
    {
      "cell_type": "markdown",
      "metadata": {
        "id": "EcWO7hJeriXS"
      },
      "source": [
        "# Train the Model"
      ]
    },
    {
      "cell_type": "code",
      "metadata": {
        "colab": {
          "base_uri": "https://localhost:8080/"
        },
        "id": "-Jcd1Q2oWOmO",
        "outputId": "752c0e7c-5824-4431-eef6-6e117c1075f7"
      },
      "source": [
        "\n",
        "batch_size = 256\n",
        "epochs = 6\n",
        "\n",
        "hist = model.fit(X_train_pad, y_train, \n",
        "                 batch_size=batch_size,\n",
        "                 epochs=epochs,\n",
        "                 validation_data=(X_test_pad,y_test))"
      ],
      "execution_count": null,
      "outputs": [
        {
          "output_type": "stream",
          "text": [
            "Epoch 1/6\n",
            "30/30 [==============================] - 90s 3s/step - loss: 1.3438 - accuracy: 0.3655 - val_loss: 1.1112 - val_accuracy: 0.5902\n",
            "Epoch 2/6\n",
            "30/30 [==============================] - 84s 3s/step - loss: 0.9688 - accuracy: 0.6491 - val_loss: 0.8077 - val_accuracy: 0.6884\n",
            "Epoch 3/6\n",
            "30/30 [==============================] - 84s 3s/step - loss: 0.6527 - accuracy: 0.7596 - val_loss: 0.7345 - val_accuracy: 0.7227\n",
            "Epoch 4/6\n",
            "30/30 [==============================] - 84s 3s/step - loss: 0.4798 - accuracy: 0.8477 - val_loss: 0.6817 - val_accuracy: 0.7510\n",
            "Epoch 5/6\n",
            "30/30 [==============================] - 85s 3s/step - loss: 0.3337 - accuracy: 0.9076 - val_loss: 0.6848 - val_accuracy: 0.7548\n",
            "Epoch 6/6\n",
            "30/30 [==============================] - 84s 3s/step - loss: 0.2335 - accuracy: 0.9394 - val_loss: 0.6761 - val_accuracy: 0.7551\n"
          ],
          "name": "stdout"
        }
      ]
    },
    {
      "cell_type": "code",
      "metadata": {
        "id": "2GFAusZmSs9f"
      },
      "source": [
        "#model.save(\"model.h5\")"
      ],
      "execution_count": null,
      "outputs": []
    },
    {
      "cell_type": "code",
      "metadata": {
        "colab": {
          "base_uri": "https://localhost:8080/"
        },
        "id": "gfZZHhpOdu1K",
        "outputId": "92a03388-5ff2-4ca9-c1d3-c0b2e48dfbd1"
      },
      "source": [
        "#from keras.models import load_model\n",
        "#keras.models.load_model('/content/model.h5')"
      ],
      "execution_count": null,
      "outputs": [
        {
          "output_type": "execute_result",
          "data": {
            "text/plain": [
              "<tensorflow.python.keras.engine.sequential.Sequential at 0x7fa3f0ed7c10>"
            ]
          },
          "metadata": {
            "tags": []
          },
          "execution_count": 56
        }
      ]
    },
    {
      "cell_type": "code",
      "metadata": {
        "colab": {
          "base_uri": "https://localhost:8080/",
          "height": 573
        },
        "id": "A8hcCPn_WYdq",
        "outputId": "41dde92f-3bd7-4f32-d948-d1a4b5ad6cf2"
      },
      "source": [
        "# Accuracy plot\n",
        "plt.plot(hist.history['accuracy'])\n",
        "plt.plot(hist.history['val_accuracy'])\n",
        "plt.title('model accuracy')\n",
        "plt.ylabel('accuracy')\n",
        "plt.xlabel('epoch')\n",
        "plt.legend(['train', 'validation'], loc='upper left')\n",
        "plt.show()\n",
        "\n",
        "# Loss plot\n",
        "plt.plot(hist.history['loss'])\n",
        "plt.plot(hist.history['val_loss'])\n",
        "plt.title('model loss')\n",
        "plt.ylabel('loss')\n",
        "plt.xlabel('epoch')\n",
        "plt.legend(['train', 'validation'], loc='upper left')\n",
        "plt.show()"
      ],
      "execution_count": null,
      "outputs": [
        {
          "output_type": "display_data",
          "data": {
            "image/png": "[encoded data removed]",
            "text/plain": [
              "<Figure size 432x288 with 1 Axes>"
            ]
          },
          "metadata": {
            "tags": [],
            "needs_background": "light"
          }
        },
        {
          "output_type": "display_data",
          "data": {
            "image/png": "[encoded data removed]",
            "text/plain": [
              "<Figure size 432x288 with 1 Axes>"
            ]
          },
          "metadata": {
            "tags": [],
            "needs_background": "light"
          }
        }
      ]
    },
    {
      "cell_type": "markdown",
      "metadata": {
        "id": "DnM-9M6BrbGH"
      },
      "source": [
        "# Evaluation"
      ]
    },
    {
      "cell_type": "code",
      "metadata": {
        "id": "H6SqpG0JXKVh",
        "colab": {
          "base_uri": "https://localhost:8080/"
        },
        "outputId": "8449c8fe-aebe-4f72-9590-1f276e21a4e8"
      },
      "source": [
        "predictions = model.predict(X_test_pad)\n",
        "predictions = np.argmax(predictions, axis=1)\n",
        "\n",
        "predictions_classname= [class_names[pred] for pred in predictions]\n",
        "predictions = [pred for pred in predictions]\n",
        "\n",
        "\n",
        "predict = to_categorical(predictions)\n",
        "predict "
      ],
      "execution_count": null,
      "outputs": [
        {
          "output_type": "execute_result",
          "data": {
            "text/plain": [
              "array([[0., 0., 1., 0.],\n",
              "       [0., 0., 0., 1.],\n",
              "       [0., 0., 1., 0.],\n",
              "       ...,\n",
              "       [0., 1., 0., 0.],\n",
              "       [1., 0., 0., 0.],\n",
              "       [0., 1., 0., 0.]], dtype=float32)"
            ]
          },
          "metadata": {
            "tags": []
          },
          "execution_count": 85
        }
      ]
    },
    {
      "cell_type": "code",
      "metadata": {
        "colab": {
          "base_uri": "https://localhost:8080/"
        },
        "id": "PIxg8CmShquf",
        "outputId": "1659713e-ffa3-4f0e-f5b6-149da9fc188a"
      },
      "source": [
        "y_test"
      ],
      "execution_count": null,
      "outputs": [
        {
          "output_type": "execute_result",
          "data": {
            "text/plain": [
              "array([[0., 0., 1., 0.],\n",
              "       [0., 0., 0., 1.],\n",
              "       [0., 0., 1., 0.],\n",
              "       ...,\n",
              "       [0., 1., 0., 0.],\n",
              "       [1., 0., 0., 0.],\n",
              "       [0., 1., 0., 0.]], dtype=float32)"
            ]
          },
          "metadata": {
            "tags": []
          },
          "execution_count": 86
        }
      ]
    },
    {
      "cell_type": "code",
      "metadata": {
        "colab": {
          "base_uri": "https://localhost:8080/"
        },
        "id": "ufR8T2axXXPx",
        "outputId": "b3873a27-5564-4cce-87f7-a355e0850278"
      },
      "source": [
        "print(\"Accuracy: {:.2f}%\".format(accuracy_score(y_test, predict) * 100))\n",
        "print(\"\\nF1 Score: {:.2f}\".format(f1_score(y_test, predict, average='micro') * 100))"
      ],
      "execution_count": null,
      "outputs": [
        {
          "output_type": "stream",
          "text": [
            "Accuracy: 75.51%\n",
            "\n",
            "F1 Score: 75.51\n"
          ],
          "name": "stdout"
        }
      ]
    },
    {
      "cell_type": "markdown",
      "metadata": {
        "id": "t-K5mV12rRoz"
      },
      "source": [
        "### Plotting Confusing Matrix"
      ]
    },
    {
      "cell_type": "code",
      "metadata": {
        "id": "F8moEnV8XdOJ"
      },
      "source": [
        "def plot_confusion_matrix(y_true, y_pred, classes,\n",
        "                          normalize=False,\n",
        "                          title=None,\n",
        "                          cmap=plt.cm.Blues):\n",
        "    '''\n",
        "    This function prints and plots the confusion matrix.\n",
        "    Normalization can be applied by setting `normalize=True`.\n",
        "    '''\n",
        "    if not title:\n",
        "        if normalize:\n",
        "            title = 'Normalized confusion matrix'\n",
        "        else:\n",
        "            title = 'Confusion matrix, without normalization'\n",
        "\n",
        "    # Compute confusion matrix\n",
        "    cm = confusion_matrix(y_true, y_pred)\n",
        "\n",
        "    if normalize:\n",
        "        cm = cm.astype('float') / cm.sum(axis=1)[:, np.newaxis]\n",
        "\n",
        "    fig, ax = plt.subplots()\n",
        "    \n",
        "    # Set size\n",
        "    fig.set_size_inches(12.5, 7.5)\n",
        "    im = ax.imshow(cm, interpolation='nearest', cmap=cmap)\n",
        "    ax.figure.colorbar(im, ax=ax)\n",
        "    ax.grid(False)\n",
        "    \n",
        "    # We want to show all ticks...\n",
        "    ax.set(xticks=np.arange(cm.shape[1]),\n",
        "           yticks=np.arange(cm.shape[0]),\n",
        "           # ... and label them with the respective list entries\n",
        "           xticklabels=classes, yticklabels=classes,\n",
        "           title=title,\n",
        "           ylabel='True label',\n",
        "           xlabel='Predicted label')\n",
        "\n",
        "    # Rotate the tick labels and set their alignment.\n",
        "    plt.setp(ax.get_xticklabels(), rotation=45, ha=\"right\",\n",
        "             rotation_mode=\"anchor\")\n",
        "\n",
        "    # Loop over data dimensions and create text annotations.\n",
        "    fmt = '.2f' if normalize else 'd'\n",
        "    thresh = cm.max() / 2.\n",
        "    for i in range(cm.shape[0]):\n",
        "        for j in range(cm.shape[1]):\n",
        "            ax.text(j, i, format(cm[i, j], fmt),\n",
        "                    ha=\"center\", va=\"center\",\n",
        "                    color=\"white\" if cm[i, j] > thresh else \"black\")\n",
        "    fig.tight_layout()\n",
        "    return ax"
      ],
      "execution_count": null,
      "outputs": []
    },
    {
      "cell_type": "code",
      "metadata": {
        "colab": {
          "base_uri": "https://localhost:8080/",
          "height": 582
        },
        "id": "6xefm4-WXd_8",
        "outputId": "bf79999d-a00c-4826-bb3f-6e9636d20fe9"
      },
      "source": [
        "print(\"\\nF1 Score: {:.2f}\".format(f1_score(y_test, predict, average='micro') * 100))\n",
        "\n",
        "# Plot normalized confusion matrix\n",
        "plot_confusion_matrix(y_test1, predictions_classname, classes=class_names, normalize=True, title='Normalized confusion matrix')\n",
        "plt.show()"
      ],
      "execution_count": null,
      "outputs": [
        {
          "output_type": "stream",
          "text": [
            "\n",
            "F1 Score: 75.51\n"
          ],
          "name": "stdout"
        },
        {
          "output_type": "display_data",
          "data": {
            "image/png": "[encoded data removed]",
            "text/plain": [
              "<Figure size 900x540 with 2 Axes>"
            ]
          },
          "metadata": {
            "tags": [],
            "needs_background": "light"
          }
        }
      ]
    },
    {
      "cell_type": "code",
      "metadata": {
        "id": "792yaRWCXgEb",
        "colab": {
          "base_uri": "https://localhost:8080/"
        },
        "outputId": "a418222a-15dc-4609-b67d-7c4ac4eb91c1"
      },
      "source": [
        "\n",
        "print('Message: {}\\nPredicted: {}'.format(X_test1[483], predictions_classname[483]))"
      ],
      "execution_count": null,
      "outputs": [
        {
          "output_type": "stream",
          "text": [
            "Message: Death in the close family.\n",
            "Predicted: fear\n"
          ],
          "name": "stdout"
        }
      ]
    },
    {
      "cell_type": "code",
      "metadata": {
        "id": "jNFo8pOKXiWe",
        "colab": {
          "base_uri": "https://localhost:8080/"
        },
        "outputId": "6b729c9b-fd4f-44f1-9352-7c859f4c7891"
      },
      "source": [
        "import time\n",
        "\n",
        "message = ['delivery was hour late and my pizza was cold!']\n",
        "\n",
        "seq = tokenizer.texts_to_sequences(message)\n",
        "padded = pad_sequences(seq, maxlen=max_seq_len)\n",
        "\n",
        "start_time = time.time()\n",
        "pred = model.predict(padded)\n",
        "\n",
        "print('Message: ' + str(message))\n",
        "print('predicted: {} ({:.2f} seconds)'.format(class_names[np.argmax(pred)], (time.time() - start_time)))"
      ],
      "execution_count": null,
      "outputs": [
        {
          "output_type": "stream",
          "text": [
            "Message: ['delivery was hour late and my pizza was cold!']\n",
            "predicted: fear (0.06 seconds)\n"
          ],
          "name": "stdout"
        }
      ]
    },
    {
      "cell_type": "code",
      "metadata": {
        "id": "sKRLi63LXlmY"
      },
      "source": [
        ""
      ],
      "execution_count": null,
      "outputs": []
    }
  ]
}